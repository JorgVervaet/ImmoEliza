{
 "cells": [
  {
   "cell_type": "code",
   "execution_count": 13,
   "metadata": {},
   "outputs": [],
   "source": [
    "import pandas as pd\n",
    "import numpy as np\n",
    "\n",
    "file = open('/Users/Jorg/BeCode/ImmoEliza/data/testdictionary.csv', 'r')\n",
    "cleaning = pd.read_csv(file)\n",
    "cleaning\n",
    "\n",
    "np.where(pd.isnull(cleaning))\n",
    "\n",
    "cleaning = cleaning.replace(' ', np.nan)                   # to get rid of empty values\n",
    "nan_values = cleaning[cleaning.isna().any(axis=1)]         # to get all rows with Na\n",
    "\n",
    "cleaning.to_csv(index=False)\n",
    "cleaning.to_csv(r'/Users/Jorg/BeCode/ImmoEliza/data/CleanTestDictionary.csv', index=False)\n"
   ]
  },
  {
   "cell_type": "code",
   "execution_count": null,
   "metadata": {},
   "outputs": [],
   "source": []
  }
 ],
 "metadata": {
  "interpreter": {
   "hash": "aee8b7b246df8f9039afb4144a1f6fd8d2ca17a180786b69acc140d282b71a49"
  },
  "kernelspec": {
   "display_name": "Python 3.10.4 64-bit",
   "language": "python",
   "name": "python3"
  },
  "language_info": {
   "codemirror_mode": {
    "name": "ipython",
    "version": 3
   },
   "file_extension": ".py",
   "mimetype": "text/x-python",
   "name": "python",
   "nbconvert_exporter": "python",
   "pygments_lexer": "ipython3",
   "version": "3.10.4"
  },
  "orig_nbformat": 4
 },
 "nbformat": 4,
 "nbformat_minor": 2
}
